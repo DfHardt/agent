{
 "cells": [
  {
   "cell_type": "code",
   "execution_count": 48,
   "id": "726b3635",
   "metadata": {},
   "outputs": [],
   "source": [
    "from langchain_community.vectorstores import FAISS\n",
    "from langchain_ollama import OllamaEmbeddings\n",
    "from langchain_community.document_loaders import PyPDFLoader\n",
    "from langchain_text_splitters import RecursiveCharacterTextSplitter\n",
    "import os\n",
    "import tqdm\n",
    "import faiss\n",
    "import numpy as np"
   ]
  },
  {
   "cell_type": "markdown",
   "id": "a2b898e6",
   "metadata": {},
   "source": [
    "Load"
   ]
  },
  {
   "cell_type": "code",
   "execution_count": 133,
   "id": "425ac115",
   "metadata": {},
   "outputs": [],
   "source": [
    "file_dir = 'pdfs'\n",
    "file_name = 'Fisica II.pdf'\n",
    "embedding_model = OllamaEmbeddings(model='granite-embedding')\n",
    "\n",
    "documents = PyPDFLoader(os.path.join(file_dir, file_name)).load()\n",
    "splitter = RecursiveCharacterTextSplitter.from_tiktoken_encoder(\n",
    "    chunk_size=500, chunk_overlap=100\n",
    ")\n",
    "splitted_documents = splitter.split_documents(documents)\n"
   ]
  },
  {
   "cell_type": "markdown",
   "id": "5c251965",
   "metadata": {},
   "source": [
    "Generate Embeddings"
   ]
  },
  {
   "cell_type": "code",
   "execution_count": 134,
   "id": "26119adf",
   "metadata": {},
   "outputs": [
    {
     "name": "stderr",
     "output_type": "stream",
     "text": [
      "Chunks: 100%|\u001b[32m##########\u001b[0m| 1920/1920 [01:36<00:00, 19.86it/s]\n"
     ]
    }
   ],
   "source": [
    "all_embeddings = []\n",
    "for chunk in tqdm.tqdm(splitted_documents, desc = 'Chunks', ascii = True, colour = 'green'):\n",
    "    emb = embedding_model.embed_query(chunk.page_content)\n",
    "    all_embeddings.append(emb)"
   ]
  },
  {
   "cell_type": "markdown",
   "id": "8b2ae587",
   "metadata": {},
   "source": [
    "Generate FAISS indexer"
   ]
  },
  {
   "cell_type": "code",
   "execution_count": 135,
   "id": "bb745a10",
   "metadata": {},
   "outputs": [
    {
     "name": "stderr",
     "output_type": "stream",
     "text": [
      "`embedding_function` is expected to be an Embeddings object, support for passing in a function will soon be removed.\n"
     ]
    }
   ],
   "source": [
    "dim = len(all_embeddings[0])\n",
    "index = faiss.IndexFlatL2(dim)\n",
    "index.add(np.array(all_embeddings).astype('float32'))\n",
    "\n",
    "vectorstore = FAISS(embedding_function=embedding_model.embed_query, index = index, docstore=None, index_to_docstore_id=None)\n"
   ]
  },
  {
   "cell_type": "markdown",
   "id": "b5c88f60",
   "metadata": {},
   "source": [
    "Save"
   ]
  },
  {
   "cell_type": "code",
   "execution_count": 136,
   "id": "9a6f65e3",
   "metadata": {},
   "outputs": [],
   "source": [
    "save_path = os.path.join('embed_text', file_name.rstrip('.pdf').replace(' ', '_').replace('(', '').replace(')', '')[:31])\n",
    "vectorstore.save_local(save_path)"
   ]
  },
  {
   "cell_type": "markdown",
   "id": "99200b50",
   "metadata": {},
   "source": [
    "Pipeline for a multiple pdf files folder"
   ]
  },
  {
   "cell_type": "code",
   "execution_count": null,
   "id": "cba73945",
   "metadata": {},
   "outputs": [],
   "source": [
    "file_dir = 'pdfs'\n",
    "files = [f for f in os.listdir(file_dir) if os.path.isfile(f) and f.endswith('.pdf')]\n",
    "docs_list = [item for sublist in docs for item in sublist]\n",
    "\n",
    "embedding_model = OllamaEmbeddings(model='granite-embedding')\n",
    "\n",
    "documents = PyPDFLoader(documents = ).load()\n",
    "splitter = RecursiveCharacterTextSplitter.from_tiktoken_encoder(\n",
    "    chunk_size=500, chunk_overlap=100\n",
    ")\n",
    "splitted_documents = splitter.split_documents(documents)\n"
   ]
  },
  {
   "cell_type": "code",
   "execution_count": 106,
   "id": "594560b3",
   "metadata": {},
   "outputs": [
    {
     "name": "stderr",
     "output_type": "stream",
     "text": [
      "Processando PDFs:   0%|          | 0/4 [00:00<?, ?it/s]`embedding_function` is expected to be an Embeddings object, support for passing in a function will soon be removed.\n",
      "Processando PDFs:  25%|██▌       | 1/4 [00:06<00:19,  6.51s/it]`embedding_function` is expected to be an Embeddings object, support for passing in a function will soon be removed.\n",
      "Processando PDFs:  25%|██▌       | 1/4 [03:21<10:04, 201.60s/it]\n"
     ]
    },
    {
     "ename": "RuntimeError",
     "evalue": "Error in __cdecl faiss::FileIOWriter::FileIOWriter(const char *) at D:\\a\\faiss-wheels\\faiss-wheels\\faiss\\faiss\\impl\\io.cpp:102: Error: 'f' failed: could not open embed_text\\Fundamentos_Circuitos_Elétricos_-_Sadiku_-_5ed_2\\index.faiss for writing: No such file or directory",
     "output_type": "error",
     "traceback": [
      "\u001b[31m---------------------------------------------------------------------------\u001b[39m",
      "\u001b[31mRuntimeError\u001b[39m                              Traceback (most recent call last)",
      "\u001b[32m~\\AppData\\Local\\Temp\\ipykernel_28736\\1339874345.py\u001b[39m in \u001b[36m?\u001b[39m\u001b[34m()\u001b[39m\n\u001b[32m     60\u001b[39m     base_name = os.path.splitext(file_name)[\u001b[32m0\u001b[39m].replace(\u001b[33m' '\u001b[39m, \u001b[33m'_'\u001b[39m).replace(\u001b[33m'('\u001b[39m, \u001b[33m''\u001b[39m).replace(\u001b[33m')'\u001b[39m, \u001b[33m''\u001b[39m)\n\u001b[32m     61\u001b[39m     save_path = os.path.join(save_dir, base_name)\n\u001b[32m     62\u001b[39m     os.makedirs(save_dir, exist_ok=\u001b[38;5;28;01mTrue\u001b[39;00m)  \u001b[38;5;66;03m# só cria embed_text\u001b[39;00m\n\u001b[32m     63\u001b[39m \n\u001b[32m---> \u001b[39m\u001b[32m64\u001b[39m     vectorstore.save_local(save_path)\n",
      "\u001b[32mc:\\Users\\danie\\AppData\\Local\\Programs\\Python\\Python312\\Lib\\site-packages\\langchain_community\\vectorstores\\faiss.py\u001b[39m in \u001b[36m?\u001b[39m\u001b[34m(self, folder_path, index_name)\u001b[39m\n\u001b[32m   1156\u001b[39m         path.mkdir(exist_ok=\u001b[38;5;28;01mTrue\u001b[39;00m, parents=\u001b[38;5;28;01mTrue\u001b[39;00m)\n\u001b[32m   1157\u001b[39m \n\u001b[32m   1158\u001b[39m         \u001b[38;5;66;03m# save index separately since it is not picklable\u001b[39;00m\n\u001b[32m   1159\u001b[39m         faiss = dependable_faiss_import()\n\u001b[32m-> \u001b[39m\u001b[32m1160\u001b[39m         faiss.write_index(self.index, str(path / f\"{index_name}.faiss\"))\n\u001b[32m   1161\u001b[39m \n\u001b[32m   1162\u001b[39m         \u001b[38;5;66;03m# save docstore and index_to_docstore_id\u001b[39;00m\n\u001b[32m   1163\u001b[39m         \u001b[38;5;28;01mwith\u001b[39;00m open(path / f\"{index_name}.pkl\", \u001b[33m\"wb\"\u001b[39m) \u001b[38;5;28;01mas\u001b[39;00m f:\n",
      "\u001b[32mc:\\Users\\danie\\AppData\\Local\\Programs\\Python\\Python312\\Lib\\site-packages\\faiss\\swigfaiss_avx2.py\u001b[39m in \u001b[36m?\u001b[39m\u001b[34m(*args)\u001b[39m\n\u001b[32m  11134\u001b[39m \u001b[38;5;28;01mdef\u001b[39;00m write_index(*args):\n\u001b[32m> \u001b[39m\u001b[32m11135\u001b[39m     \u001b[38;5;28;01mreturn\u001b[39;00m _swigfaiss_avx2.write_index(*args)\n",
      "\u001b[31mRuntimeError\u001b[39m: Error in __cdecl faiss::FileIOWriter::FileIOWriter(const char *) at D:\\a\\faiss-wheels\\faiss-wheels\\faiss\\faiss\\impl\\io.cpp:102: Error: 'f' failed: could not open embed_text\\Fundamentos_Circuitos_Elétricos_-_Sadiku_-_5ed_2\\index.faiss for writing: No such file or directory"
     ]
    }
   ],
   "source": [
    "import os\n",
    "import tqdm\n",
    "import numpy as np\n",
    "import faiss\n",
    "\n",
    "from langchain_community.document_loaders import PyPDFLoader\n",
    "from langchain.text_splitter import RecursiveCharacterTextSplitter\n",
    "from langchain.vectorstores.faiss import FAISS\n",
    "from langchain.docstore.in_memory import InMemoryDocstore\n",
    "\n",
    "# CONFIG\n",
    "file_dir = 'pdfs'\n",
    "save_dir = 'embed_text'\n",
    "embedding_function = embedding_model.embed_query  # modelo previamente definido\n",
    "\n",
    "# CRIA A PASTA SE NÃO EXISTIR\n",
    "os.makedirs(save_dir, exist_ok=True)\n",
    "\n",
    "# LISTA DE PDFs\n",
    "files = [\n",
    "    f for f in os.listdir(file_dir)\n",
    "    if os.path.isfile(os.path.join(file_dir, f)) and f.endswith('.pdf')\n",
    "]\n",
    "\n",
    "# PIPELINE\n",
    "for file_name in tqdm.tqdm(files, desc=\"Processando PDFs\"):\n",
    "    path = os.path.join(file_dir, file_name)\n",
    "    docs = PyPDFLoader(path).load()\n",
    "\n",
    "    splitter = RecursiveCharacterTextSplitter.from_tiktoken_encoder(\n",
    "        chunk_size=500, chunk_overlap=100\n",
    "    )\n",
    "    splitted_documents = splitter.split_documents(docs)\n",
    "\n",
    "    if not splitted_documents:\n",
    "        continue\n",
    "\n",
    "    all_embeddings = []\n",
    "    for chunk in tqdm.tqdm(splitted_documents, desc=\"Chunks\", leave=False, colour=\"#00ff00\"):\n",
    "        emb = embedding_function(chunk.page_content)\n",
    "        all_embeddings.append(emb)\n",
    "\n",
    "    if not all_embeddings:\n",
    "        continue\n",
    "\n",
    "    dim = len(all_embeddings[0])\n",
    "    index = faiss.IndexFlatL2(dim)\n",
    "    index.add(np.array(all_embeddings).astype('float32'))\n",
    "\n",
    "    docstore = InMemoryDocstore({str(i): doc for i, doc in enumerate(splitted_documents)})\n",
    "    index_to_docstore_id = {i: str(i) for i in range(len(splitted_documents))}\n",
    "\n",
    "    vectorstore = FAISS(\n",
    "        embedding_function=embedding_function,\n",
    "        index=index,\n",
    "        docstore=docstore,\n",
    "        index_to_docstore_id=index_to_docstore_id\n",
    "    )\n",
    "\n",
    "    base_name = os.path.splitext(file_name)[0].replace(' ', '_').replace('(', '').replace(')', '')\n",
    "    save_path = os.path.join(save_dir, base_name)\n",
    "    os.makedirs(save_dir, exist_ok=True)  # só cria embed_text\n",
    "\n",
    "    vectorstore.save_local(save_path)\n"
   ]
  }
 ],
 "metadata": {
  "kernelspec": {
   "display_name": "Python 3",
   "language": "python",
   "name": "python3"
  },
  "language_info": {
   "codemirror_mode": {
    "name": "ipython",
    "version": 3
   },
   "file_extension": ".py",
   "mimetype": "text/x-python",
   "name": "python",
   "nbconvert_exporter": "python",
   "pygments_lexer": "ipython3",
   "version": "3.12.0"
  }
 },
 "nbformat": 4,
 "nbformat_minor": 5
}
